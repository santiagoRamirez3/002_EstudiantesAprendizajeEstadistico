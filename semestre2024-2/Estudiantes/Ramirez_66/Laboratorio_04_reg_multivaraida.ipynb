{
 "cells": [
  {
   "cell_type": "code",
   "execution_count": 1,
   "metadata": {},
   "outputs": [],
   "source": [
    "import matplotlib.pyplot as plt\n",
    "import numpy as np\n",
    "import pandas as pd"
   ]
  },
  {
   "cell_type": "code",
   "execution_count": 23,
   "metadata": {},
   "outputs": [],
   "source": [
    "class hyperPlane():\n",
    "    def __init__(self, X, Y):\n",
    "        self.X = X\n",
    "        self.Y = Y\n",
    "        Nfeatures, Ndata = np.shape(X)[0], np.shape(X)[1]\n",
    "        self.theta = np.zeros(Nfeatures)\n",
    "        self.h = np.zeros(Ndata)\n",
    "        self.J = 1.\n",
    "        self.grad = 1.\n",
    "\n",
    "        self.Niter = 100\n",
    "        self.JHist = np.zeros(self.Niter)\n",
    "\n",
    "    def computeLinearRegretion(self):\n",
    "        self.theta = np.random.random(3)\n",
    "\n",
    "        i = 0\n",
    "        while((np.dot(self.grad,self.grad) > 1e-8) and (i < self.Niter)):\n",
    "            self.model()\n",
    "            self.costo()\n",
    "            self.JHist[i] = self.J\n",
    "            self.update_params(0.01)\n",
    "            i += 1\n",
    "        \n",
    "        self.JHist = self.JHist[:i]\n",
    "    \n",
    "    def model(self):\n",
    "        self.h = self.theta.T@self.X\n",
    "    \n",
    "    def costo(self):\n",
    "        self.J = np.mean((self.h - self.Y)**2)\n",
    "    \n",
    "    def update_params(self, learningRate):\n",
    "        self.grad = np.dot((self.h - self.Y) ,self.X.T).T\n",
    "        self.theta = self.theta - learningRate*self.grad\n",
    "    \n",
    "    def plot(self):\n",
    "        plt.plot(self.JHist)\n",
    "        plt.show()"
   ]
  },
  {
   "cell_type": "code",
   "execution_count": 10,
   "metadata": {},
   "outputs": [],
   "source": [
    "N = 100\n",
    "x_1 = 2 * np.random.random(N) - 1\n",
    "x_2 = 2 * np.random.random(N) - 1\n",
    "\n",
    "y_label = 2.1 * x_1 - 3.1 * x_2 #+ 0.2*(2*np.random.random(N)-1)\n",
    "df = pd.DataFrame({\"x1\":x_1, \"x2\":x_2, \"y\":y_label})\n",
    "df[\"ones\"]=1\n",
    "\n",
    "X = df[['ones', 'x1', 'x2']].values.T\n",
    "Y = df['y']"
   ]
  },
  {
   "cell_type": "code",
   "execution_count": 24,
   "metadata": {},
   "outputs": [],
   "source": [
    "firstTrie = hyperPlane(X,Y)\n",
    "\n",
    "firstTrie.computeLinearRegretion()  "
   ]
  },
  {
   "cell_type": "code",
   "execution_count": 25,
   "metadata": {},
   "outputs": [
    {
     "data": {
      "image/png": "[encoded data removed]",
      "text/plain": [
       "<Figure size 640x480 with 1 Axes>"
      ]
     },
     "metadata": {},
     "output_type": "display_data"
    }
   ],
   "source": [
    "firstTrie.plot()"
   ]
  },
  {
   "cell_type": "code",
   "execution_count": 26,
   "metadata": {},
   "outputs": [
    {
     "name": "stdout",
     "output_type": "stream",
     "text": [
      "Los valores de theta son:\n",
      "[ 1.85508553e-08  2.09999826e+00 -3.10000011e+00]\n"
     ]
    }
   ],
   "source": [
    "print('Los valores de theta son:')\n",
    "\n",
    "print(firstTrie.theta)"
   ]
  },
  {
   "cell_type": "markdown",
   "metadata": {},
   "source": [
    "$$\n",
    "\\theta_0 = 0.0 \\\\\n",
    "\\theta_1 = 2.1 \\\\\n",
    "\\theta_2 = -3.1 \\\\\n",
    "$$"
   ]
  }
 ],
 "metadata": {
  "kernelspec": {
   "display_name": "Python 3",
   "language": "python",
   "name": "python3"
  },
  "language_info": {
   "codemirror_mode": {
    "name": "ipython",
    "version": 3
   },
   "file_extension": ".py",
   "mimetype": "text/x-python",
   "name": "python",
   "nbconvert_exporter": "python",
   "pygments_lexer": "ipython3",
   "version": "3.12.4"
  }
 },
 "nbformat": 4,
 "nbformat_minor": 2
}
